{
 "cells": [
  {
   "cell_type": "code",
   "execution_count": 4,
   "id": "ce7377c7",
   "metadata": {},
   "outputs": [
    {
     "name": "stdout",
     "output_type": "stream",
     "text": [
      "\n",
      "===== CLIP 输出 =====\n",
      "图像 embedding: [0.198974609375, 0.46337890625, -0.146240234375, -0.146240234375, -0.11224365234375] ...\n",
      "文本 embedding: [-0.038299560546875, -0.050872802734375, 0.248046875, 0.382568359375, 0.003879547119140625] ...\n",
      "相似度: 0.271484375\n",
      "图像 embedding 维度: torch.Size([1, 512])\n",
      "文本 embedding 维度: torch.Size([1, 512])\n",
      "\n",
      "===== SigLIP 输出 =====\n",
      "图像 embedding: [-0.025411736220121384, -0.0158709529787302, -0.02022467739880085, 0.016594942659139633, 0.03929762914776802] ...\n",
      "文本 embedding: [-0.05442783236503601, -0.029097648337483406, 0.027545589953660965, -0.010813655331730843, 7.1288290200755e-05] ...\n",
      "相似度: -0.013044867664575577\n",
      "图像 embedding 维度: torch.Size([1, 768])\n",
      "文本 embedding 维度: torch.Size([1, 768])\n"
     ]
    }
   ],
   "source": [
    "import torch\n",
    "from PIL import Image\n",
    "import clip\n",
    "from transformers import SiglipProcessor, SiglipModel\n",
    "import torch.nn.functional as F\n",
    "\n",
    "# ====== 1. 加载本地模型 ======\n",
    "# 替换为你本地的路径\n",
    "clip_model, clip_preprocess = clip.load(\"ViT-B/32\", device=\"cuda\" if torch.cuda.is_available() else \"cpu\")\n",
    "\n",
    "siglip_model_path = \"./siglip_local\"  # ← 你的本地siglip路径\n",
    "siglip_model = SiglipModel.from_pretrained(siglip_model_path).eval()\n",
    "siglip_processor = SiglipProcessor.from_pretrained(siglip_model_path)\n",
    "\n",
    "device = \"cuda\" if torch.cuda.is_available() else \"cpu\"\n",
    "siglip_model = siglip_model.to(device)\n",
    "\n",
    "# ====== 2. 加载图像和文本 ======\n",
    "image_path = \"roses.jpg\"  # 你自己的图片路径\n",
    "text = \"Find white roses in the image. Paint the white rose into red\"  # 你自己的文本描述\n",
    "\n",
    "# CLIP 预处理\n",
    "clip_image = clip_preprocess(Image.open(image_path)).unsqueeze(0).to(device)\n",
    "clip_text = clip.tokenize([text]).to(device)\n",
    "\n",
    "# SigLIP 预处理\n",
    "siglip_inputs = siglip_processor(images=Image.open(image_path), text=[text], return_tensors=\"pt\").to(device)\n",
    "\n",
    "# ====== 3. 前向传播 ======\n",
    "with torch.no_grad():\n",
    "    # CLIP 输出\n",
    "    clip_img_emb = clip_model.encode_image(clip_image)  # (1, D)\n",
    "    clip_txt_emb = clip_model.encode_text(clip_text)    # (1, D)\n",
    "\n",
    "    # SigLIP 输出\n",
    "    siglip_outputs = siglip_model(**siglip_inputs)\n",
    "    siglip_img_emb = siglip_outputs.image_embeds        # (1, D)\n",
    "    siglip_txt_emb = siglip_outputs.text_embeds         # (1, D)\n",
    "\n",
    "# ====== 4. 标准化和对比 ======\n",
    "def cosine_sim(a, b):\n",
    "    return F.cosine_similarity(a, b).item()\n",
    "\n",
    "clip_img_emb_norm = F.normalize(clip_img_emb, dim=-1)\n",
    "clip_txt_emb_norm = F.normalize(clip_txt_emb, dim=-1)\n",
    "\n",
    "siglip_img_emb_norm = F.normalize(siglip_img_emb, dim=-1)\n",
    "siglip_txt_emb_norm = F.normalize(siglip_txt_emb, dim=-1)\n",
    "\n",
    "print(\"\\n===== CLIP 输出 =====\")\n",
    "print(\"图像 embedding:\", clip_img_emb.squeeze().tolist()[:5], \"...\")\n",
    "print(\"文本 embedding:\", clip_txt_emb.squeeze().tolist()[:5], \"...\")\n",
    "print(\"相似度:\", cosine_sim(clip_img_emb_norm, clip_txt_emb_norm))\n",
    "# 输出embedding维度\n",
    "print(\"图像 embedding 维度:\", clip_img_emb.shape)\n",
    "print(\"文本 embedding 维度:\", clip_txt_emb.shape)\n",
    "\n",
    "print(\"\\n===== SigLIP 输出 =====\")\n",
    "print(\"图像 embedding:\", siglip_img_emb.squeeze().tolist()[:5], \"...\")\n",
    "print(\"文本 embedding:\", siglip_txt_emb.squeeze().tolist()[:5], \"...\")\n",
    "print(\"相似度:\", cosine_sim(siglip_img_emb_norm, siglip_txt_emb_norm))\n",
    "# 输出embedding维度\n",
    "print(\"图像 embedding 维度:\", siglip_img_emb.shape)\n",
    "print(\"文本 embedding 维度:\", siglip_txt_emb.shape)\n"
   ]
  }
 ],
 "metadata": {
  "kernelspec": {
   "display_name": "DL",
   "language": "python",
   "name": "python3"
  },
  "language_info": {
   "codemirror_mode": {
    "name": "ipython",
    "version": 3
   },
   "file_extension": ".py",
   "mimetype": "text/x-python",
   "name": "python",
   "nbconvert_exporter": "python",
   "pygments_lexer": "ipython3",
   "version": "3.12.9"
  }
 },
 "nbformat": 4,
 "nbformat_minor": 5
}
