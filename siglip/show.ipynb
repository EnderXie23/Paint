{
 "cells": [
  {
   "cell_type": "code",
   "execution_count": 3,
   "id": "ce7377c7",
   "metadata": {},
   "outputs": [
    {
     "name": "stdout",
     "output_type": "stream",
     "text": [
      "\n",
      "===== CLIP 输出 =====\n",
      "图像 embedding: [-0.2666015625, -0.5107421875, 0.1229248046875, -0.4853515625, -0.2242431640625] ...\n",
      "文本 embedding: [-0.493408203125, 0.1875, 0.1368408203125, 0.114501953125, -0.0006265640258789062] ...\n",
      "图像 embedding 维度: torch.Size([1, 512])\n",
      "文本 embedding 维度: torch.Size([1, 512])\n",
      "Embd matching Cosine Similarity: 0.279541015625\n",
      "\n",
      "===== SigLIP 输出 =====\n",
      "图像 embedding: [0.010202853940427303, 0.018973883241415024, -0.03359675779938698, -0.0034157102927565575, 0.05803455784916878] ...\n",
      "文本 embedding: [-0.04627535864710808, 0.013235348276793957, 0.015011128969490528, 0.022088630124926567, 0.30756810307502747] ...\n",
      "图像 embedding 维度: torch.Size([1, 768])\n",
      "文本 embedding 维度: torch.Size([1, 768])\n",
      "Embd matching Cosine Similarity: 0.007766037248075008\n"
     ]
    }
   ],
   "source": [
    "import torch\n",
    "from PIL import Image\n",
    "import clip\n",
    "from transformers import AutoProcessor, AutoModel\n",
    "import torch.nn.functional as F\n",
    "\n",
    "# ====== 1. Load models ======\n",
    "clip_model, clip_preprocess = clip.load(\"ViT-B/16\", device=\"cuda\" if torch.cuda.is_available() else \"cpu\")\n",
    "clip_model.eval()\n",
    "clip_model.load_state_dict(torch.load('../clipseg/weights/rd64-uni-refined.pth'), strict=False)\n",
    "\n",
    "siglip_model_path = \"./siglip2\"\n",
    "siglip_model = AutoModel.from_pretrained(siglip_model_path).eval()\n",
    "siglip_processor = AutoProcessor.from_pretrained(siglip_model_path)\n",
    "\n",
    "device = \"cuda\" if torch.cuda.is_available() else \"cpu\"\n",
    "siglip_model = siglip_model.to(device)\n",
    "\n",
    "# ====== 2. Load image and text ======\n",
    "image_path = \"roses.jpg\"  \n",
    "text = \"Turn the white roses into red ones.\"\n",
    "\n",
    "# CLIP preprocessing\n",
    "clip_image = clip_preprocess(Image.open(image_path)).unsqueeze(0).to(device)\n",
    "clip_text = clip.tokenize([text]).to(device)\n",
    "\n",
    "# SigLIP preprocessing\n",
    "siglip_inputs = siglip_processor(images=Image.open(image_path), text=[text], return_tensors=\"pt\").to(device)\n",
    "\n",
    "# ====== 3. Forward pass ======\n",
    "with torch.no_grad():\n",
    "    # CLIP output\n",
    "    clip_img_emb = clip_model.encode_image(clip_image)  # (1, D)\n",
    "    clip_txt_emb = clip_model.encode_text(clip_text)    # (1, D)\n",
    "\n",
    "    # SigLIP output\n",
    "    siglip_outputs = siglip_model(**siglip_inputs)\n",
    "    siglip_img_emb = siglip_outputs.image_embeds        # (1, D)\n",
    "    siglip_txt_emb = siglip_outputs.text_embeds         # (1, D)\n",
    "\n",
    "# ====== 4. Results and Comparison ======\n",
    "def cosine_sim(a, b):\n",
    "    return F.cosine_similarity(a, b).item()\n",
    "\n",
    "clip_img_emb_norm = F.normalize(clip_img_emb, dim=-1)\n",
    "clip_txt_emb_norm = F.normalize(clip_txt_emb, dim=-1)\n",
    "\n",
    "siglip_img_emb_norm = F.normalize(siglip_img_emb, dim=-1)\n",
    "siglip_txt_emb_norm = F.normalize(siglip_txt_emb, dim=-1)\n",
    "\n",
    "print(\"\\n===== CLIP 输出 =====\")\n",
    "print(\"图像 embedding:\", clip_img_emb.squeeze().tolist()[:5], \"...\")\n",
    "print(\"文本 embedding:\", clip_txt_emb.squeeze().tolist()[:5], \"...\")\n",
    "print(\"图像 embedding 维度:\", clip_img_emb.shape)\n",
    "print(\"文本 embedding 维度:\", clip_txt_emb.shape)\n",
    "print(\"Embd matching Cosine Similarity:\", cosine_sim(clip_img_emb_norm, clip_txt_emb_norm))\n",
    "\n",
    "print(\"\\n===== SigLIP 输出 =====\")\n",
    "print(\"图像 embedding:\", siglip_img_emb.squeeze().tolist()[:5], \"...\")\n",
    "print(\"文本 embedding:\", siglip_txt_emb.squeeze().tolist()[:5], \"...\")\n",
    "print(\"图像 embedding 维度:\", siglip_img_emb.shape)\n",
    "print(\"文本 embedding 维度:\", siglip_txt_emb.shape)\n",
    "print(\"Embd matching Cosine Similarity:\", cosine_sim(siglip_img_emb_norm, siglip_txt_emb_norm))\n"
   ]
  }
 ],
 "metadata": {
  "kernelspec": {
   "display_name": "paint",
   "language": "python",
   "name": "python3"
  },
  "language_info": {
   "codemirror_mode": {
    "name": "ipython",
    "version": 3
   },
   "file_extension": ".py",
   "mimetype": "text/x-python",
   "name": "python",
   "nbconvert_exporter": "python",
   "pygments_lexer": "ipython3",
   "version": "3.10.17"
  }
 },
 "nbformat": 4,
 "nbformat_minor": 5
}
